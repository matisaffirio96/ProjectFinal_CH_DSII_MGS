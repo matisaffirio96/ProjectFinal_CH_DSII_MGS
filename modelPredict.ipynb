{
 "cells": [
  {
   "cell_type": "code",
   "execution_count": 43,
   "metadata": {},
   "outputs": [],
   "source": [
    "##PREDICCIONES\n",
    "import pandas as pd\n",
    "import numpy as np\n",
    "import matplotlib.pyplot as plt\n",
    "import seaborn as sns"
   ]
  },
  {
   "cell_type": "code",
   "execution_count": 44,
   "metadata": {},
   "outputs": [
    {
     "name": "stderr",
     "output_type": "stream",
     "text": [
      "/var/folders/jy/x2pqrfp13zq3nj0tq7p5wp400000gn/T/ipykernel_7998/3244851366.py:1: DtypeWarning: Columns (14) have mixed types. Specify dtype option on import or set low_memory=False.\n",
      "  df = pd.read_csv(\"inputs/data_predict.csv\", header=0, delimiter=';')\n"
     ]
    }
   ],
   "source": [
    "df = pd.read_csv(\"inputs/data_predict.csv\", header=0, delimiter=';')"
   ]
  },
  {
   "cell_type": "code",
   "execution_count": 45,
   "metadata": {},
   "outputs": [
    {
     "name": "stderr",
     "output_type": "stream",
     "text": [
      "/var/folders/jy/x2pqrfp13zq3nj0tq7p5wp400000gn/T/ipykernel_7998/1081767790.py:5: FutureWarning: Downcasting behavior in `replace` is deprecated and will be removed in a future version. To retain the old behavior, explicitly call `result.infer_objects(copy=False)`. To opt-in to the future behavior, set `pd.set_option('future.no_silent_downcasting', True)`\n",
      "  df[\"Gender\"] = df[\"Gender\"].replace({\"F\":0, \"M\":1})\n"
     ]
    }
   ],
   "source": [
    "##formateo columnas objects que son numerics o date\n",
    "df[\"ApplicationDate\"] = pd.to_datetime(df[\"ApplicationDate\"], format='mixed')\n",
    "df[\"MonthlyIncome\"] = pd.to_numeric(df['MonthlyIncome'], errors='coerce')\n",
    "df[\"TotalDebtToIncomeRatio\"] = pd.to_numeric(df['TotalDebtToIncomeRatio'], errors='coerce')\n",
    "df[\"Gender\"] = df[\"Gender\"].replace({\"F\":0, \"M\":1})"
   ]
  },
  {
   "cell_type": "code",
   "execution_count": 46,
   "metadata": {},
   "outputs": [],
   "source": [
    "df = df.drop(columns=[\"MonthlyIncome\",\"LoanApproved\"])\n"
   ]
  },
  {
   "cell_type": "code",
   "execution_count": 47,
   "metadata": {},
   "outputs": [
    {
     "name": "stdout",
     "output_type": "stream",
     "text": [
      "<class 'pandas.core.frame.DataFrame'>\n",
      "RangeIndex: 20002 entries, 0 to 20001\n",
      "Data columns (total 27 columns):\n",
      " #   Column                      Non-Null Count  Dtype  \n",
      "---  ------                      --------------  -----  \n",
      " 0   Age                         20002 non-null  int64  \n",
      " 1   AnnualIncome                20002 non-null  int64  \n",
      " 2   CreditScore                 20002 non-null  int64  \n",
      " 3   Experience                  20002 non-null  int64  \n",
      " 4   LoanAmount                  20002 non-null  int64  \n",
      " 5   LoanDuration                20002 non-null  int64  \n",
      " 6   WithChilds                  20002 non-null  int64  \n",
      " 7   NumberOfDependents          20002 non-null  int64  \n",
      " 8   CreditCardUtilizationRate   20002 non-null  float64\n",
      " 9   NumberOfOpenCreditLines     20002 non-null  int64  \n",
      " 10  NumberOfCreditInquiries     20002 non-null  int64  \n",
      " 11  DebtToIncomeRatio           20002 non-null  float64\n",
      " 12  BankruptcyHistory           20002 non-null  int64  \n",
      " 13  PreviousLoanDefaults        20002 non-null  int64  \n",
      " 14  PaymentHistory              20002 non-null  int64  \n",
      " 15  LengthOfCreditHistory       20002 non-null  int64  \n",
      " 16  SavingsAccountBalance       20002 non-null  int64  \n",
      " 17  CheckingAccountBalance      20002 non-null  int64  \n",
      " 18  TotalAssets                 20002 non-null  int64  \n",
      " 19  TotalLiabilities            20002 non-null  int64  \n",
      " 20  UtilityBillsPaymentHistory  20002 non-null  float64\n",
      " 21  JobTenure                   20002 non-null  int64  \n",
      " 22  NetWorth                    20002 non-null  int64  \n",
      " 23  BaseInterestRate            20002 non-null  float64\n",
      " 24  InterestRate                20002 non-null  float64\n",
      " 25  MonthlyLoanPayment          20002 non-null  float64\n",
      " 26  TotalDebtToIncomeRatio      18835 non-null  float64\n",
      "dtypes: float64(7), int64(20)\n",
      "memory usage: 4.1 MB\n"
     ]
    }
   ],
   "source": [
    "df = df.drop([\"Gender\",\"EmploymentStatus\", \"EducationLevel\",\"ApplicationDate\",\"MaritalStatus\",\"HomeOwnershipStatus\",\"MonthlyDebtPayments\",\"LoanPurpose\",\"RiskScore\"], axis=1)\n",
    "df.info()"
   ]
  },
  {
   "cell_type": "code",
   "execution_count": 48,
   "metadata": {},
   "outputs": [],
   "source": [
    "orden = [\"TotalDebtToIncomeRatio\",\"AnnualIncome\",\"BankruptcyHistory\",\"LoanDuration\",\"PreviousLoanDefaults\"]"
   ]
  },
  {
   "cell_type": "code",
   "execution_count": 49,
   "metadata": {},
   "outputs": [],
   "source": [
    "df = df[orden]"
   ]
  },
  {
   "cell_type": "code",
   "execution_count": 50,
   "metadata": {},
   "outputs": [],
   "source": [
    "import joblib"
   ]
  },
  {
   "cell_type": "code",
   "execution_count": 51,
   "metadata": {},
   "outputs": [],
   "source": [
    "modelo_xgboost = joblib.load(\"inputs/models/xgboos_bestmodel.joblib\")"
   ]
  },
  {
   "cell_type": "code",
   "execution_count": 52,
   "metadata": {},
   "outputs": [],
   "source": [
    "prediction = modelo_xgboost.predict(df)"
   ]
  },
  {
   "cell_type": "code",
   "execution_count": 53,
   "metadata": {},
   "outputs": [
    {
     "data": {
      "text/plain": [
       "array([0, 0, 0, ..., 0, 0, 1])"
      ]
     },
     "execution_count": 53,
     "metadata": {},
     "output_type": "execute_result"
    }
   ],
   "source": [
    "prediction"
   ]
  },
  {
   "cell_type": "code",
   "execution_count": 54,
   "metadata": {},
   "outputs": [],
   "source": [
    "df.loc[:,'predicciones'] = prediction"
   ]
  },
  {
   "cell_type": "code",
   "execution_count": 55,
   "metadata": {},
   "outputs": [
    {
     "data": {
      "text/html": [
       "<div>\n",
       "<style scoped>\n",
       "    .dataframe tbody tr th:only-of-type {\n",
       "        vertical-align: middle;\n",
       "    }\n",
       "\n",
       "    .dataframe tbody tr th {\n",
       "        vertical-align: top;\n",
       "    }\n",
       "\n",
       "    .dataframe thead th {\n",
       "        text-align: right;\n",
       "    }\n",
       "</style>\n",
       "<table border=\"1\" class=\"dataframe\">\n",
       "  <thead>\n",
       "    <tr style=\"text-align: right;\">\n",
       "      <th></th>\n",
       "      <th>TotalDebtToIncomeRatio</th>\n",
       "      <th>AnnualIncome</th>\n",
       "      <th>BankruptcyHistory</th>\n",
       "      <th>LoanDuration</th>\n",
       "      <th>PreviousLoanDefaults</th>\n",
       "      <th>predicciones</th>\n",
       "    </tr>\n",
       "  </thead>\n",
       "  <tbody>\n",
       "    <tr>\n",
       "      <th>0</th>\n",
       "      <td>0.181077</td>\n",
       "      <td>39948</td>\n",
       "      <td>0</td>\n",
       "      <td>48</td>\n",
       "      <td>0</td>\n",
       "      <td>0</td>\n",
       "    </tr>\n",
       "    <tr>\n",
       "      <th>1</th>\n",
       "      <td>0.389852</td>\n",
       "      <td>39709</td>\n",
       "      <td>0</td>\n",
       "      <td>48</td>\n",
       "      <td>0</td>\n",
       "      <td>0</td>\n",
       "    </tr>\n",
       "    <tr>\n",
       "      <th>2</th>\n",
       "      <td>0.462157</td>\n",
       "      <td>40724</td>\n",
       "      <td>0</td>\n",
       "      <td>36</td>\n",
       "      <td>0</td>\n",
       "      <td>0</td>\n",
       "    </tr>\n",
       "    <tr>\n",
       "      <th>3</th>\n",
       "      <td>0.313098</td>\n",
       "      <td>69084</td>\n",
       "      <td>0</td>\n",
       "      <td>96</td>\n",
       "      <td>0</td>\n",
       "      <td>0</td>\n",
       "    </tr>\n",
       "    <tr>\n",
       "      <th>4</th>\n",
       "      <td>0.070210</td>\n",
       "      <td>103264</td>\n",
       "      <td>0</td>\n",
       "      <td>36</td>\n",
       "      <td>0</td>\n",
       "      <td>1</td>\n",
       "    </tr>\n",
       "    <tr>\n",
       "      <th>...</th>\n",
       "      <td>...</td>\n",
       "      <td>...</td>\n",
       "      <td>...</td>\n",
       "      <td>...</td>\n",
       "      <td>...</td>\n",
       "      <td>...</td>\n",
       "    </tr>\n",
       "    <tr>\n",
       "      <th>19997</th>\n",
       "      <td>0.357227</td>\n",
       "      <td>48958</td>\n",
       "      <td>0</td>\n",
       "      <td>72</td>\n",
       "      <td>0</td>\n",
       "      <td>0</td>\n",
       "    </tr>\n",
       "    <tr>\n",
       "      <th>19998</th>\n",
       "      <td>0.408678</td>\n",
       "      <td>41025</td>\n",
       "      <td>0</td>\n",
       "      <td>72</td>\n",
       "      <td>0</td>\n",
       "      <td>0</td>\n",
       "    </tr>\n",
       "    <tr>\n",
       "      <th>19999</th>\n",
       "      <td>0.298006</td>\n",
       "      <td>53227</td>\n",
       "      <td>0</td>\n",
       "      <td>48</td>\n",
       "      <td>0</td>\n",
       "      <td>0</td>\n",
       "    </tr>\n",
       "    <tr>\n",
       "      <th>20000</th>\n",
       "      <td>0.408678</td>\n",
       "      <td>65429</td>\n",
       "      <td>0</td>\n",
       "      <td>24</td>\n",
       "      <td>0</td>\n",
       "      <td>0</td>\n",
       "    </tr>\n",
       "    <tr>\n",
       "      <th>20001</th>\n",
       "      <td>0.298006</td>\n",
       "      <td>77631</td>\n",
       "      <td>0</td>\n",
       "      <td>0</td>\n",
       "      <td>0</td>\n",
       "      <td>1</td>\n",
       "    </tr>\n",
       "  </tbody>\n",
       "</table>\n",
       "<p>20002 rows × 6 columns</p>\n",
       "</div>"
      ],
      "text/plain": [
       "       TotalDebtToIncomeRatio  AnnualIncome  BankruptcyHistory  LoanDuration  \\\n",
       "0                    0.181077         39948                  0            48   \n",
       "1                    0.389852         39709                  0            48   \n",
       "2                    0.462157         40724                  0            36   \n",
       "3                    0.313098         69084                  0            96   \n",
       "4                    0.070210        103264                  0            36   \n",
       "...                       ...           ...                ...           ...   \n",
       "19997                0.357227         48958                  0            72   \n",
       "19998                0.408678         41025                  0            72   \n",
       "19999                0.298006         53227                  0            48   \n",
       "20000                0.408678         65429                  0            24   \n",
       "20001                0.298006         77631                  0             0   \n",
       "\n",
       "       PreviousLoanDefaults  predicciones  \n",
       "0                         0             0  \n",
       "1                         0             0  \n",
       "2                         0             0  \n",
       "3                         0             0  \n",
       "4                         0             1  \n",
       "...                     ...           ...  \n",
       "19997                     0             0  \n",
       "19998                     0             0  \n",
       "19999                     0             0  \n",
       "20000                     0             0  \n",
       "20001                     0             1  \n",
       "\n",
       "[20002 rows x 6 columns]"
      ]
     },
     "execution_count": 55,
     "metadata": {},
     "output_type": "execute_result"
    }
   ],
   "source": [
    "df"
   ]
  },
  {
   "cell_type": "markdown",
   "metadata": {},
   "source": [
    "COMPARO LA PREDICCION CONTRA LOS DATOS UTILIZADOS POR ANALISTAS DE LA ENTIDAD FINANCIERA"
   ]
  },
  {
   "cell_type": "code",
   "execution_count": 56,
   "metadata": {},
   "outputs": [
    {
     "data": {
      "image/png": "[encoded data removed]",
      "text/plain": [
       "<Figure size 640x480 with 1 Axes>"
      ]
     },
     "metadata": {},
     "output_type": "display_data"
    }
   ],
   "source": [
    "count_LoanApprove = df[\"predicciones\"].value_counts()\n",
    "\n",
    "plt.Figure()\n",
    "plt.gcf().set_facecolor('white')\n",
    "plt.pie(count_LoanApprove, labels=count_LoanApprove.index, autopct='%1.1f%%', startangle=90)\n",
    "plt.title(\"Distribucion de la variable LoanApproved\")\n",
    "plt.show()"
   ]
  },
  {
   "cell_type": "code",
   "execution_count": 60,
   "metadata": {},
   "outputs": [
    {
     "data": {
      "image/png": "[encoded data removed]",
      "text/plain": [
       "<Figure size 1000x500 with 1 Axes>"
      ]
     },
     "metadata": {},
     "output_type": "display_data"
    }
   ],
   "source": [
    "probabilidades_nuevos = modelo_xgboost.predict_proba(df[orden])[:,1]\n",
    "plt.figure(figsize=(10,5))\n",
    "sns.histplot(probabilidades_nuevos, bins=30, kde=True, color='blue')\n",
    "plt.show()"
   ]
  }
 ],
 "metadata": {
  "kernelspec": {
   "display_name": "Python 3",
   "language": "python",
   "name": "python3"
  },
  "language_info": {
   "codemirror_mode": {
    "name": "ipython",
    "version": 3
   },
   "file_extension": ".py",
   "mimetype": "text/x-python",
   "name": "python",
   "nbconvert_exporter": "python",
   "pygments_lexer": "ipython3",
   "version": "3.13.0"
  }
 },
 "nbformat": 4,
 "nbformat_minor": 2
}
